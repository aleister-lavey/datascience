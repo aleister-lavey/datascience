{
 "cells": [
  {
   "cell_type": "markdown",
   "id": "147ec662-7105-49e7-84a5-8ac491db536f",
   "metadata": {},
   "source": [
    "<b><u>Линейная интерполяция</u></b>"
   ]
  },
  {
   "cell_type": "markdown",
   "id": "eb36113b-6e10-4b34-a3cd-f7f7c627312a",
   "metadata": {},
   "source": [
    "Загрузка библиотек"
   ]
  },
  {
   "cell_type": "code",
   "execution_count": 3,
   "id": "13bab247-e867-4a09-92e5-f681d49ca0cb",
   "metadata": {},
   "outputs": [],
   "source": [
    "# %matplotlib qt используется чтобы анимация графиков нормально работала\n",
    "%matplotlib qt\n",
    "import time\n",
    "import matplotlib.pyplot as plt"
   ]
  },
  {
   "cell_type": "markdown",
   "id": "781f11db-98df-46ca-afb8-d18278ef219f",
   "metadata": {},
   "source": [
    "Исходные данные для линейной интерполяции"
   ]
  },
  {
   "cell_type": "code",
   "execution_count": 5,
   "id": "38a66f49-6258-41ce-876c-7668fa86892a",
   "metadata": {},
   "outputs": [],
   "source": [
    "x = [1,2,3,4,5,6,9]\n",
    "y = [3,2,-1,2,4,-5,10]"
   ]
  },
  {
   "cell_type": "code",
   "execution_count": 6,
   "id": "3398b30e-cb67-442e-a8e7-3ac28db84d17",
   "metadata": {},
   "outputs": [],
   "source": [
    "plt.plot(x, y, 'ob')\n",
    "plt.ylabel('ОСЬ Y')\n",
    "plt.xlabel('ОСЬ X')\n",
    "plt.show()"
   ]
  },
  {
   "cell_type": "code",
   "execution_count": 7,
   "id": "f0607b4e-90b4-4023-8550-48a030ff622b",
   "metadata": {},
   "outputs": [
    {
     "name": "stdin",
     "output_type": "stream",
     "text": [
      "введите номер интерполируемого интервала от 1 до 6:\n",
      " 2\n",
      "Введите количество точек интерполяции (натуральное) 10\n"
     ]
    }
   ],
   "source": [
    "tx = str(len(x) - 1) + \":\\n\"\n",
    "#Запрос на ввод номера интерполируемого интервала и сохранение в z\n",
    "z = int(input(f'введите номер интерполируемого интервала от 1 до {tx}' ))\n",
    "#Запрос на ввод количества точек интерполяции\n",
    "nn = int(input(\"Введите количество точек интерполяции (натуральное)\"))\n"
   ]
  },
  {
   "cell_type": "code",
   "execution_count": 8,
   "id": "05c5e26d-6cb9-4b68-b970-23369136d588",
   "metadata": {
    "scrolled": true
   },
   "outputs": [
    {
     "name": "stdout",
     "output_type": "stream",
     "text": [
      "[2.0, 2.1, 2.2, 2.3, 2.4, 2.5, 2.6, 2.7, 2.8, 2.9]\n",
      "[2.0, 1.6999999999999993, 1.3999999999999995, 1.1000000000000005, 0.8000000000000007, 0.5, 0.1999999999999993, -0.10000000000000142, -0.3999999999999986, -0.6999999999999993]\n"
     ]
    },
    {
     "data": {
      "text/plain": [
       "<contextlib.ExitStack at 0x2bb2f4c9ca0>"
      ]
     },
     "execution_count": 8,
     "metadata": {},
     "output_type": "execute_result"
    }
   ],
   "source": [
    "#Массивы для хранения результатов\n",
    "xx = [0] * nn\n",
    "yy = [0] * nn\n",
    "#Циклический расчет промежуточных точек\n",
    "for i in range(0,nn):\n",
    "    xx[i] = (x[z] - x[z-1]) / nn * i + x[z-1] \n",
    "    yy[i] = ( (y[z]-y[z-1]) / (x[z]-x[z-1]) ) * xx[i] + y[z-1] - ( (y[z]-y[z-1]) / (x[z]-x[z-1]) ) * x[z-1]\n",
    "#Вывод результатов\n",
    "print(xx)\n",
    "print(yy)\n",
    "#Вывод интерактивного графика с анимацией\n",
    "plt.ion()\n",
    "fig, ax = plt.subplots()\n",
    "for z in range(0, nn):\n",
    "    plt.clf()\n",
    "    plt.plot(x,y, \"-ob\")\n",
    "    plt.plot(xx[z], yy[z], \"ro\")\n",
    "    fig.canvas.draw()\n",
    "    fig.canvas.flush_events()\n",
    "    time.sleep(1)\n",
    "plt.ioff()"
   ]
  },
  {
   "cell_type": "markdown",
   "id": "0b6a7698-ebce-4990-b80d-859268af6fd1",
   "metadata": {},
   "source": [
    "<b><u>Масштабирование</u></b>"
   ]
  },
  {
   "cell_type": "code",
   "execution_count": 21,
   "id": "f2216168-a169-4575-8d59-e4c335184cf5",
   "metadata": {},
   "outputs": [
    {
     "name": "stdout",
     "output_type": "stream",
     "text": [
      "[0.5, 0.5454545454545455, 0.0, 1.0, 0.6818181818181819, 0.7727272727272727]\n"
     ]
    }
   ],
   "source": [
    "#Исходная шкала\n",
    "x = [1, 2, -10, 12, 5, 7]\n",
    "#Целевая шкала\n",
    "y = []\n",
    "#Размер списка для пересчета\n",
    "nn = len(x)\n",
    "#Границы целевого диапазона изменения показателя\n",
    "maxY = 1\n",
    "minY = 0\n",
    "#Начало и окончание исходного диапазона\n",
    "minX = min(x)\n",
    "maxX = max(x)\n",
    "for i in range(nn):\n",
    "    y.append( (maxY - minY) / (maxX - minX) * x[i] + minY - (maxY - minY) / (maxX - minX) * minX )\n",
    "print(y)"
   ]
  },
  {
   "cell_type": "code",
   "execution_count": 32,
   "id": "57fd5c1a-42aa-409c-ae6a-cfdb5a32bde1",
   "metadata": {},
   "outputs": [
    {
     "name": "stdout",
     "output_type": "stream",
     "text": [
      "1.5\n"
     ]
    }
   ],
   "source": [
    "import scipy.interpolate as interp\n",
    "x = [1, 2, 6]\n",
    "y = [1, 2, 5]\n",
    "y_int = interp.interp1d(x, y)\n",
    "print(y_int(1.5))"
   ]
  }
 ],
 "metadata": {
  "kernelspec": {
   "display_name": "Python 3 (ipykernel)",
   "language": "python",
   "name": "python3"
  },
  "language_info": {
   "codemirror_mode": {
    "name": "ipython",
    "version": 3
   },
   "file_extension": ".py",
   "mimetype": "text/x-python",
   "name": "python",
   "nbconvert_exporter": "python",
   "pygments_lexer": "ipython3",
   "version": "3.12.4"
  }
 },
 "nbformat": 4,
 "nbformat_minor": 5
}
