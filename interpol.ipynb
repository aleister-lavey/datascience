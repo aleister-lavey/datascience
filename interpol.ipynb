{
 "cells": [
  {
   "cell_type": "markdown",
   "id": "147ec662-7105-49e7-84a5-8ac491db536f",
   "metadata": {},
   "source": [
    "<b><u>Линейная интерполяция</u></b>"
   ]
  },
  {
   "cell_type": "markdown",
   "id": "eb36113b-6e10-4b34-a3cd-f7f7c627312a",
   "metadata": {},
   "source": [
    "Загрузка библиотек"
   ]
  },
  {
   "cell_type": "code",
   "execution_count": 1,
   "id": "13bab247-e867-4a09-92e5-f681d49ca0cb",
   "metadata": {},
   "outputs": [],
   "source": [
    "# %matplotlib qt используется чтобы анимация нормально работала\n",
    "%matplotlib qt\n",
    "import time\n",
    "import matplotlib.pyplot as plt"
   ]
  },
  {
   "cell_type": "markdown",
   "id": "781f11db-98df-46ca-afb8-d18278ef219f",
   "metadata": {},
   "source": [
    "Исходные данные для линейной интерполяции"
   ]
  },
  {
   "cell_type": "code",
   "execution_count": 2,
   "id": "38a66f49-6258-41ce-876c-7668fa86892a",
   "metadata": {},
   "outputs": [],
   "source": [
    "x = [1,2,3,4,5]\n",
    "y = [3,2,-1,2,4]"
   ]
  },
  {
   "cell_type": "code",
   "execution_count": 3,
   "id": "3398b30e-cb67-442e-a8e7-3ac28db84d17",
   "metadata": {},
   "outputs": [],
   "source": [
    "plt.plot(x, y, 'ob')\n",
    "plt.ylabel('ОСЬ Y')\n",
    "plt.xlabel('ОСЬ X')\n",
    "plt.show()"
   ]
  },
  {
   "cell_type": "code",
   "execution_count": 4,
   "id": "f0607b4e-90b4-4023-8550-48a030ff622b",
   "metadata": {},
   "outputs": [
    {
     "name": "stdin",
     "output_type": "stream",
     "text": [
      "введите номер интерполируемого интервала от 1 до 4:\n",
      " 3\n",
      "Введите количество точек интерполяции (натуральное) 20\n"
     ]
    }
   ],
   "source": [
    "tx = \"введите номер интерполируемого интервала от 1 до \" + str(len(x) - 1) + \":\\n\"\n",
    "#Запрос на ввод номера интерполируемого интервала и сохранение в z\n",
    "z = int(input(tx))\n",
    "#Запрос на ввод количества точек интерполяции\n",
    "nn = int(input(\"Введите количество точек интерполяции (натуральное)\"))\n"
   ]
  },
  {
   "cell_type": "code",
   "execution_count": 5,
   "id": "05c5e26d-6cb9-4b68-b970-23369136d588",
   "metadata": {},
   "outputs": [
    {
     "name": "stdout",
     "output_type": "stream",
     "text": [
      "[3.0, 3.05, 3.1, 3.15, 3.2, 3.25, 3.3, 3.35, 3.4, 3.45, 3.5, 3.55, 3.6, 3.65, 3.7, 3.75, 3.8, 3.85, 3.9, 3.95]\n",
      "[-1.0, -0.8500000000000014, -0.6999999999999993, -0.5500000000000007, -0.3999999999999986, -0.25, -0.10000000000000142, 0.05000000000000071, 0.1999999999999993, 0.3500000000000014, 0.5, 0.6499999999999986, 0.8000000000000007, 0.9499999999999993, 1.1000000000000014, 1.25, 1.3999999999999986, 1.5500000000000007, 1.6999999999999993, 1.8500000000000014]\n"
     ]
    },
    {
     "data": {
      "text/plain": [
       "<contextlib.ExitStack at 0x24fabf8f9b0>"
      ]
     },
     "execution_count": 5,
     "metadata": {},
     "output_type": "execute_result"
    }
   ],
   "source": [
    "#Массивы для хранения результатов\n",
    "xx = [0] * nn\n",
    "yy = [0] * nn\n",
    "#Циклический расчет промежуточных точек\n",
    "for i in range(0,nn):\n",
    "    xx[i] = (x[z] - x[z-1]) / nn * i + x[z-1] \n",
    "    yy[i] = ( (y[z]-y[z-1]) / (x[z]-x[z-1]) ) * xx[i] + y[z-1] - ( (y[z]-y[z-1]) / (x[z]-x[z-1]) ) * x[z-1]\n",
    "#Вывод результатов\n",
    "print(xx)\n",
    "print(yy)\n",
    "#Вывод интерактивного графика с анимацией\n",
    "plt.ion()\n",
    "fig, ax = plt.subplots()\n",
    "for z in range(0, nn):\n",
    "    plt.clf()\n",
    "    plt.plot(x,y, \"-ob\")\n",
    "    plt.plot(xx[z], yy[z], \"ro\")\n",
    "    fig.canvas.draw()\n",
    "    fig.canvas.flush_events()\n",
    "    time.sleep(1)\n",
    "plt.ioff()"
   ]
  }
 ],
 "metadata": {
  "kernelspec": {
   "display_name": "Python 3 (ipykernel)",
   "language": "python",
   "name": "python3"
  },
  "language_info": {
   "codemirror_mode": {
    "name": "ipython",
    "version": 3
   },
   "file_extension": ".py",
   "mimetype": "text/x-python",
   "name": "python",
   "nbconvert_exporter": "python",
   "pygments_lexer": "ipython3",
   "version": "3.12.4"
  }
 },
 "nbformat": 4,
 "nbformat_minor": 5
}
